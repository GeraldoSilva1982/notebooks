{
 "cells": [
  {
   "cell_type": "markdown",
   "id": "9f1a6a6b-01f1-44fe-b597-99564f85a657",
   "metadata": {},
   "source": [
    "# Análise exploratória do DataSet Infrações de  Trânsito #\n",
    "##### fonte dos dados:https://dados.gov.br/dataset/infracoes-transito #####\n",
    "##### Consolidação de dados de Autos de Infração do mês de Setembro/2022 #####\n",
    "## Autor: Geraldo Silva ## "
   ]
  },
  {
   "cell_type": "code",
   "execution_count": 1,
   "id": "bb334e8c-c916-4e7b-81a3-46f1b0cf4c2c",
   "metadata": {},
   "outputs": [],
   "source": [
    "## Importando libs para trabalhar com dados\n",
    "\n",
    "import pandas as pd\n",
    "import matplotlib.pyplot as plt\n",
    "import seaborn as sns\n",
    "%matplotlib inline "
   ]
  },
  {
   "cell_type": "code",
   "execution_count": 2,
   "id": "9ec3ecd2-e8da-448a-b908-11040d261d02",
   "metadata": {},
   "outputs": [],
   "source": [
    "#Lendo arquivo custo_diaria.csv fornecido pelo Professor Leandro Lessa\n",
    "\n",
    "dataset = \"~/gerFiles/dataUnimed/desafio/dados-abertosset2022.csv\"\n",
    "dados= pd.read_csv(dataset, header=None, sep = \";\")\n"
   ]
  },
  {
   "cell_type": "code",
   "execution_count": 3,
   "id": "29037bca-18a1-480e-91b1-574eeb3bae48",
   "metadata": {},
   "outputs": [
    {
     "name": "stdout",
     "output_type": "stream",
     "text": [
      "Imprimindo informações basicas do dataset\n",
      "\n",
      "\n",
      "<class 'pandas.core.frame.DataFrame'>\n",
      "RangeIndex: 108287 entries, 0 to 108286\n",
      "Data columns (total 13 columns):\n",
      " #   Column  Non-Null Count   Dtype \n",
      "---  ------  --------------   ----- \n",
      " 0   0       108287 non-null  object\n",
      " 1   1       108287 non-null  object\n",
      " 2   2       108287 non-null  object\n",
      " 3   3       108287 non-null  object\n",
      " 4   4       108287 non-null  object\n",
      " 5   5       108287 non-null  object\n",
      " 6   6       108281 non-null  object\n",
      " 7   7       17818 non-null   object\n",
      " 8   8       17509 non-null   object\n",
      " 9   9       2123 non-null    object\n",
      " 10  10      17709 non-null   object\n",
      " 11  11      17709 non-null   object\n",
      " 12  12      108287 non-null  object\n",
      "dtypes: object(13)\n",
      "memory usage: 10.7+ MB\n"
     ]
    }
   ],
   "source": [
    "#lendo informações \n",
    "#imprimindo informações basicas\n",
    "def info_data_set(df):\n",
    "    print(\"Imprimindo informações basicas do dataset\\n\\n\")\n",
    "    df.info(verbose = True)\n",
    "    \n",
    "info_data_set(dados)    "
   ]
  },
  {
   "cell_type": "code",
   "execution_count": 4,
   "id": "baea410a-1068-4039-89b1-73ec781ed758",
   "metadata": {},
   "outputs": [
    {
     "data": {
      "text/html": [
       "<div>\n",
       "<style scoped>\n",
       "    .dataframe tbody tr th:only-of-type {\n",
       "        vertical-align: middle;\n",
       "    }\n",
       "\n",
       "    .dataframe tbody tr th {\n",
       "        vertical-align: top;\n",
       "    }\n",
       "\n",
       "    .dataframe thead th {\n",
       "        text-align: right;\n",
       "    }\n",
       "</style>\n",
       "<table border=\"1\" class=\"dataframe\">\n",
       "  <thead>\n",
       "    <tr style=\"text-align: right;\">\n",
       "      <th></th>\n",
       "      <th>0</th>\n",
       "      <th>1</th>\n",
       "      <th>2</th>\n",
       "      <th>3</th>\n",
       "      <th>4</th>\n",
       "      <th>5</th>\n",
       "      <th>6</th>\n",
       "      <th>7</th>\n",
       "      <th>8</th>\n",
       "      <th>9</th>\n",
       "      <th>10</th>\n",
       "      <th>11</th>\n",
       "      <th>12</th>\n",
       "    </tr>\n",
       "  </thead>\n",
       "  <tbody>\n",
       "    <tr>\n",
       "      <th>count</th>\n",
       "      <td>108287</td>\n",
       "      <td>108287</td>\n",
       "      <td>108287</td>\n",
       "      <td>108287</td>\n",
       "      <td>108287</td>\n",
       "      <td>108287</td>\n",
       "      <td>108281</td>\n",
       "      <td>17818</td>\n",
       "      <td>17509</td>\n",
       "      <td>2123</td>\n",
       "      <td>17709</td>\n",
       "      <td>17709</td>\n",
       "      <td>108287</td>\n",
       "    </tr>\n",
       "    <tr>\n",
       "      <th>unique</th>\n",
       "      <td>137</td>\n",
       "      <td>137</td>\n",
       "      <td>4</td>\n",
       "      <td>48</td>\n",
       "      <td>31</td>\n",
       "      <td>1441</td>\n",
       "      <td>449</td>\n",
       "      <td>85</td>\n",
       "      <td>37</td>\n",
       "      <td>172</td>\n",
       "      <td>9729</td>\n",
       "      <td>9914</td>\n",
       "      <td>5</td>\n",
       "    </tr>\n",
       "    <tr>\n",
       "      <th>top</th>\n",
       "      <td>7455-0</td>\n",
       "      <td>Transitar em velocidade superior à máxima perm...</td>\n",
       "      <td>Condutor</td>\n",
       "      <td>AUTOMOVEL</td>\n",
       "      <td>12/09/2022</td>\n",
       "      <td>17:35</td>\n",
       "      <td>DF-075 (EPNB) KM 7,6 SENTIDO R. FUNDO/SAMAMBAI...</td>\n",
       "      <td>13</td>\n",
       "      <td>Sentido Crescente</td>\n",
       "      <td>TRECHO DA VIA EM FRENTE AO CONDOMÍNIO SOLAR DA...</td>\n",
       "      <td>0.0</td>\n",
       "      <td>0.0</td>\n",
       "      <td>Média</td>\n",
       "    </tr>\n",
       "    <tr>\n",
       "      <th>freq</th>\n",
       "      <td>67733</td>\n",
       "      <td>67733</td>\n",
       "      <td>105201</td>\n",
       "      <td>36035</td>\n",
       "      <td>5052</td>\n",
       "      <td>166</td>\n",
       "      <td>6403</td>\n",
       "      <td>1782</td>\n",
       "      <td>9331</td>\n",
       "      <td>253</td>\n",
       "      <td>2765</td>\n",
       "      <td>2765</td>\n",
       "      <td>71660</td>\n",
       "    </tr>\n",
       "  </tbody>\n",
       "</table>\n",
       "</div>"
      ],
      "text/plain": [
       "            0                                                  1         2   \\\n",
       "count   108287                                             108287    108287   \n",
       "unique     137                                                137         4   \n",
       "top     7455-0  Transitar em velocidade superior à máxima perm...  Condutor   \n",
       "freq     67733                                              67733    105201   \n",
       "\n",
       "                               3           4       5   \\\n",
       "count                      108287      108287  108287   \n",
       "unique                         48          31    1441   \n",
       "top     AUTOMOVEL                  12/09/2022   17:35   \n",
       "freq                        36035        5052     166   \n",
       "\n",
       "                                                       6      7   \\\n",
       "count                                              108281  17818   \n",
       "unique                                                449     85   \n",
       "top     DF-075 (EPNB) KM 7,6 SENTIDO R. FUNDO/SAMAMBAI...     13   \n",
       "freq                                                 6403   1782   \n",
       "\n",
       "                       8                                                  9   \\\n",
       "count               17509                                               2123   \n",
       "unique                 37                                                172   \n",
       "top     Sentido Crescente  TRECHO DA VIA EM FRENTE AO CONDOMÍNIO SOLAR DA...   \n",
       "freq                 9331                                                253   \n",
       "\n",
       "           10     11      12  \n",
       "count   17709  17709  108287  \n",
       "unique   9729   9914       5  \n",
       "top       0.0    0.0   Média  \n",
       "freq     2765   2765   71660  "
      ]
     },
     "execution_count": 4,
     "metadata": {},
     "output_type": "execute_result"
    }
   ],
   "source": [
    "#Usando o metodo describe para obter estatísticas resumidas dos dados \n",
    "dados.describe()\n",
    "#dados.shape"
   ]
  },
  {
   "cell_type": "code",
   "execution_count": 5,
   "id": "e82f166d-eee7-4ead-833d-148e65b3f1b9",
   "metadata": {},
   "outputs": [
    {
     "data": {
      "text/html": [
       "<div>\n",
       "<style scoped>\n",
       "    .dataframe tbody tr th:only-of-type {\n",
       "        vertical-align: middle;\n",
       "    }\n",
       "\n",
       "    .dataframe tbody tr th {\n",
       "        vertical-align: top;\n",
       "    }\n",
       "\n",
       "    .dataframe thead th {\n",
       "        text-align: right;\n",
       "    }\n",
       "</style>\n",
       "<table border=\"1\" class=\"dataframe\">\n",
       "  <thead>\n",
       "    <tr style=\"text-align: right;\">\n",
       "      <th></th>\n",
       "      <th>0</th>\n",
       "      <th>1</th>\n",
       "      <th>2</th>\n",
       "      <th>3</th>\n",
       "      <th>4</th>\n",
       "      <th>5</th>\n",
       "      <th>6</th>\n",
       "      <th>7</th>\n",
       "      <th>8</th>\n",
       "      <th>9</th>\n",
       "      <th>10</th>\n",
       "      <th>11</th>\n",
       "      <th>12</th>\n",
       "    </tr>\n",
       "  </thead>\n",
       "  <tbody>\n",
       "    <tr>\n",
       "      <th>0</th>\n",
       "      <td>tipo_infracao</td>\n",
       "      <td>descricao</td>\n",
       "      <td>tipo_infrator</td>\n",
       "      <td>tipo_veiculo</td>\n",
       "      <td>cometimento</td>\n",
       "      <td>hora_cometimento</td>\n",
       "      <td>auinf_local_rodovia</td>\n",
       "      <td>auinf_local_km</td>\n",
       "      <td>auinf_local_referencia</td>\n",
       "      <td>auinf_local_complemento</td>\n",
       "      <td>auinf_local_latitude</td>\n",
       "      <td>auinf_local_longitude</td>\n",
       "      <td>grav_tipo</td>\n",
       "    </tr>\n",
       "    <tr>\n",
       "      <th>1</th>\n",
       "      <td>7455-0</td>\n",
       "      <td>Transitar em velocidade superior à máxima perm...</td>\n",
       "      <td>Condutor</td>\n",
       "      <td>AUTOMOVEL</td>\n",
       "      <td>01/09/2022</td>\n",
       "      <td>00:00</td>\n",
       "      <td>RODOVIA DF-079 (EPVP), KM 2,7</td>\n",
       "      <td>NaN</td>\n",
       "      <td>NaN</td>\n",
       "      <td>NaN</td>\n",
       "      <td>NaN</td>\n",
       "      <td>NaN</td>\n",
       "      <td>Média</td>\n",
       "    </tr>\n",
       "    <tr>\n",
       "      <th>2</th>\n",
       "      <td>7455-0</td>\n",
       "      <td>Transitar em velocidade superior à máxima perm...</td>\n",
       "      <td>Condutor</td>\n",
       "      <td>AUTOMOVEL</td>\n",
       "      <td>01/09/2022</td>\n",
       "      <td>00:01</td>\n",
       "      <td>BR-020 KM 19,1 SENTIDO CRESCENTE              ...</td>\n",
       "      <td>NaN</td>\n",
       "      <td>NaN</td>\n",
       "      <td>NaN</td>\n",
       "      <td>NaN</td>\n",
       "      <td>NaN</td>\n",
       "      <td>Média</td>\n",
       "    </tr>\n",
       "    <tr>\n",
       "      <th>3</th>\n",
       "      <td>5681-0</td>\n",
       "      <td>Transitar na faixa/pista da direita regul circ...</td>\n",
       "      <td>Condutor</td>\n",
       "      <td>MOTOCICLET</td>\n",
       "      <td>01/09/2022</td>\n",
       "      <td>00:01</td>\n",
       "      <td>DF-075 (EPNB) KM 4,4 SENT. N. BAND. / RIACHO F...</td>\n",
       "      <td>NaN</td>\n",
       "      <td>NaN</td>\n",
       "      <td>NaN</td>\n",
       "      <td>NaN</td>\n",
       "      <td>NaN</td>\n",
       "      <td>Leve</td>\n",
       "    </tr>\n",
       "    <tr>\n",
       "      <th>4</th>\n",
       "      <td>7463-0</td>\n",
       "      <td>Transitar em velocidade superior à máxima perm...</td>\n",
       "      <td>Condutor</td>\n",
       "      <td>AUTOMOVEL</td>\n",
       "      <td>01/09/2022</td>\n",
       "      <td>00:02</td>\n",
       "      <td>RODOVIA DF-001 (EPCT), KM 60,7</td>\n",
       "      <td>NaN</td>\n",
       "      <td>NaN</td>\n",
       "      <td>NaN</td>\n",
       "      <td>NaN</td>\n",
       "      <td>NaN</td>\n",
       "      <td>Grave</td>\n",
       "    </tr>\n",
       "  </tbody>\n",
       "</table>\n",
       "</div>"
      ],
      "text/plain": [
       "              0                                                  1   \\\n",
       "0  tipo_infracao                                          descricao   \n",
       "1         7455-0  Transitar em velocidade superior à máxima perm...   \n",
       "2         7455-0  Transitar em velocidade superior à máxima perm...   \n",
       "3         5681-0  Transitar na faixa/pista da direita regul circ...   \n",
       "4         7463-0  Transitar em velocidade superior à máxima perm...   \n",
       "\n",
       "              2                          3            4                 5   \\\n",
       "0  tipo_infrator               tipo_veiculo  cometimento  hora_cometimento   \n",
       "1       Condutor                  AUTOMOVEL   01/09/2022             00:00   \n",
       "2       Condutor  AUTOMOVEL                   01/09/2022             00:01   \n",
       "3       Condutor  MOTOCICLET                  01/09/2022             00:01   \n",
       "4       Condutor                  AUTOMOVEL   01/09/2022             00:02   \n",
       "\n",
       "                                                  6               7   \\\n",
       "0                                auinf_local_rodovia  auinf_local_km   \n",
       "1                      RODOVIA DF-079 (EPVP), KM 2,7             NaN   \n",
       "2  BR-020 KM 19,1 SENTIDO CRESCENTE              ...             NaN   \n",
       "3  DF-075 (EPNB) KM 4,4 SENT. N. BAND. / RIACHO F...             NaN   \n",
       "4                     RODOVIA DF-001 (EPCT), KM 60,7             NaN   \n",
       "\n",
       "                       8                        9                     10  \\\n",
       "0  auinf_local_referencia  auinf_local_complemento  auinf_local_latitude   \n",
       "1                     NaN                      NaN                   NaN   \n",
       "2                     NaN                      NaN                   NaN   \n",
       "3                     NaN                      NaN                   NaN   \n",
       "4                     NaN                      NaN                   NaN   \n",
       "\n",
       "                      11         12  \n",
       "0  auinf_local_longitude  grav_tipo  \n",
       "1                    NaN      Média  \n",
       "2                    NaN      Média  \n",
       "3                    NaN       Leve  \n",
       "4                    NaN      Grave  "
      ]
     },
     "execution_count": 5,
     "metadata": {},
     "output_type": "execute_result"
    }
   ],
   "source": [
    "# imprimindo as primeiras linhas do dataframe\n",
    "dados.head()"
   ]
  },
  {
   "cell_type": "code",
   "execution_count": 6,
   "id": "b94434d3-3e55-4b5d-a6e1-9d16b1647972",
   "metadata": {},
   "outputs": [
    {
     "name": "stdout",
     "output_type": "stream",
     "text": [
      "Verificando valores null\n",
      "------------------------\n",
      "0          0\n",
      "1          0\n",
      "2          0\n",
      "3          0\n",
      "4          0\n",
      "5          0\n",
      "6          6\n",
      "7      90469\n",
      "8      90778\n",
      "9     106164\n",
      "10     90578\n",
      "11     90578\n",
      "12         0\n",
      "dtype: int64\n"
     ]
    }
   ],
   "source": [
    "# definido função para Vericando valores null\n",
    "def func_valores_null(df):\n",
    "    valoresNull = pd.isnull(df)\n",
    "    #print(valoresNull)\n",
    "    print(\"Verificando valores null\")\n",
    "    print(\"------------------------\") \n",
    "    print(valoresNull.where(valoresNull == True).count())\n",
    "    \n",
    "func_valores_null(dados)"
   ]
  },
  {
   "cell_type": "code",
   "execution_count": null,
   "id": "e7c04c39-dbb5-4180-9acb-b684ee06f1c9",
   "metadata": {},
   "outputs": [],
   "source": []
  },
  {
   "cell_type": "code",
   "execution_count": 33,
   "id": "e65925c1-e178-482d-9909-965be690c23a",
   "metadata": {},
   "outputs": [
    {
     "data": {
      "text/html": [
       "<div>\n",
       "<style scoped>\n",
       "    .dataframe tbody tr th:only-of-type {\n",
       "        vertical-align: middle;\n",
       "    }\n",
       "\n",
       "    .dataframe tbody tr th {\n",
       "        vertical-align: top;\n",
       "    }\n",
       "\n",
       "    .dataframe thead th {\n",
       "        text-align: right;\n",
       "    }\n",
       "</style>\n",
       "<table border=\"1\" class=\"dataframe\">\n",
       "  <thead>\n",
       "    <tr style=\"text-align: right;\">\n",
       "      <th></th>\n",
       "      <th>tipo_infrator</th>\n",
       "      <th>tipo_veiculo</th>\n",
       "      <th>tipo_gravidade</th>\n",
       "    </tr>\n",
       "  </thead>\n",
       "  <tbody>\n",
       "    <tr>\n",
       "      <th>2</th>\n",
       "      <td>Condutor</td>\n",
       "      <td>AUTOMOVEL</td>\n",
       "      <td>Média</td>\n",
       "    </tr>\n",
       "    <tr>\n",
       "      <th>3</th>\n",
       "      <td>Condutor</td>\n",
       "      <td>MOTOCICLET</td>\n",
       "      <td>Leve</td>\n",
       "    </tr>\n",
       "    <tr>\n",
       "      <th>12</th>\n",
       "      <td>Condutor</td>\n",
       "      <td>Automóvel</td>\n",
       "      <td>Gravíssima</td>\n",
       "    </tr>\n",
       "    <tr>\n",
       "      <th>13</th>\n",
       "      <td>Condutor</td>\n",
       "      <td>AUTOMOVEL</td>\n",
       "      <td>Média</td>\n",
       "    </tr>\n",
       "  </tbody>\n",
       "</table>\n",
       "</div>"
      ],
      "text/plain": [
       "   tipo_infrator               tipo_veiculo tipo_gravidade\n",
       "2       Condutor  AUTOMOVEL                          Média\n",
       "3       Condutor  MOTOCICLET                          Leve\n",
       "12      Condutor                  Automóvel     Gravíssima\n",
       "13      Condutor                  AUTOMOVEL          Média"
      ]
     },
     "execution_count": 33,
     "metadata": {},
     "output_type": "execute_result"
    }
   ],
   "source": [
    "# Gerando novo dataframe com colunas, tipo_infrator, tipo_veiculo e grav_tipo  \n",
    "# Lista com colunas que não seram utilizadas\n",
    "#list_infrator_veiculo_gravidade = ['tipo_infracao', 'descricao', 'tipo_infrator', 'tipo_veiculo', 'cometimento', 'hora_cometimento', 'auinf_local_rodovia', 'auinf_local_km', 'auinf_local_referencia', 'auinf_local_complemento', 'auinf_local_latitude', 'auinf_local_longitude']\n",
    "list_infrator_veiculo_gravidade = [ 0 , 1, 4, 5, 6, 7, 8, 9, 10, 11]\n",
    "dados_infrator_veiculo_gravidade= dados.drop(list_infrator_veiculo_gravidade, axis = 1).drop(list_infrator_veiculo_gravidade, axis = 0)\n",
    "dados_infrator_veiculo_gravidade.columns = ['tipo_infrator', 'tipo_veiculo', 'tipo_gravidade']\n",
    "dados_infrator_veiculo_gravidade.head(4)\n"
   ]
  },
  {
   "cell_type": "code",
   "execution_count": 37,
   "id": "66b66f79-8e70-43a9-829d-652c68119467",
   "metadata": {},
   "outputs": [
    {
     "name": "stdout",
     "output_type": "stream",
     "text": [
      "<class 'pandas.core.frame.DataFrame'>\n",
      "Int64Index: 108277 entries, 2 to 108286\n",
      "Data columns (total 3 columns):\n",
      " #   Column          Non-Null Count   Dtype \n",
      "---  ------          --------------   ----- \n",
      " 0   tipo_infrator   108277 non-null  object\n",
      " 1   tipo_veiculo    108277 non-null  object\n",
      " 2   tipo_gravidade  108277 non-null  object\n",
      "dtypes: object(3)\n",
      "memory usage: 7.3+ MB\n"
     ]
    }
   ],
   "source": [
    "#Imprimindo informações basicas dados\n",
    "dados_infrator_veiculo_gravidade.info()"
   ]
  },
  {
   "cell_type": "code",
   "execution_count": 38,
   "id": "9f191e7d-f674-46f9-8393-04dd0c1312c1",
   "metadata": {},
   "outputs": [
    {
     "name": "stdout",
     "output_type": "stream",
     "text": [
      "Verificando valores null\n",
      "------------------------\n",
      "tipo_infrator     0\n",
      "tipo_veiculo      0\n",
      "tipo_gravidade    0\n",
      "dtype: int64\n"
     ]
    }
   ],
   "source": [
    "#Verificando dados ausentes\n",
    "func_valores_null(dados_infrator_veiculo_gravidade)"
   ]
  },
  {
   "cell_type": "code",
   "execution_count": 39,
   "id": "1214c703-6624-4bd5-9171-11e459c587d5",
   "metadata": {},
   "outputs": [
    {
     "data": {
      "text/html": [
       "<div>\n",
       "<style scoped>\n",
       "    .dataframe tbody tr th:only-of-type {\n",
       "        vertical-align: middle;\n",
       "    }\n",
       "\n",
       "    .dataframe tbody tr th {\n",
       "        vertical-align: top;\n",
       "    }\n",
       "\n",
       "    .dataframe thead th {\n",
       "        text-align: right;\n",
       "    }\n",
       "</style>\n",
       "<table border=\"1\" class=\"dataframe\">\n",
       "  <thead>\n",
       "    <tr style=\"text-align: right;\">\n",
       "      <th></th>\n",
       "      <th>tipo_infrator</th>\n",
       "      <th>tipo_veiculo</th>\n",
       "      <th>tipo_gravidade</th>\n",
       "    </tr>\n",
       "  </thead>\n",
       "  <tbody>\n",
       "    <tr>\n",
       "      <th>count</th>\n",
       "      <td>108277</td>\n",
       "      <td>108277</td>\n",
       "      <td>108277</td>\n",
       "    </tr>\n",
       "    <tr>\n",
       "      <th>unique</th>\n",
       "      <td>3</td>\n",
       "      <td>47</td>\n",
       "      <td>4</td>\n",
       "    </tr>\n",
       "    <tr>\n",
       "      <th>top</th>\n",
       "      <td>Condutor</td>\n",
       "      <td>AUTOMOVEL</td>\n",
       "      <td>Média</td>\n",
       "    </tr>\n",
       "    <tr>\n",
       "      <th>freq</th>\n",
       "      <td>105192</td>\n",
       "      <td>36033</td>\n",
       "      <td>71652</td>\n",
       "    </tr>\n",
       "  </tbody>\n",
       "</table>\n",
       "</div>"
      ],
      "text/plain": [
       "       tipo_infrator               tipo_veiculo tipo_gravidade\n",
       "count         108277                     108277         108277\n",
       "unique             3                         47              4\n",
       "top         Condutor  AUTOMOVEL                          Média\n",
       "freq          105192                      36033          71652"
      ]
     },
     "execution_count": 39,
     "metadata": {},
     "output_type": "execute_result"
    }
   ],
   "source": [
    "dados_infrator_veiculo_gravidade.describe(include = 'all')"
   ]
  },
  {
   "cell_type": "code",
   "execution_count": 59,
   "id": "e1e9da2a-1a9c-4762-b931-05cf22774977",
   "metadata": {},
   "outputs": [
    {
     "data": {
      "text/plain": [
       "Condutor        105192\n",
       "Proprietário      3083\n",
       "Emb/Transp           2\n",
       "Name: tipo_infrator, dtype: int64"
      ]
     },
     "execution_count": 59,
     "metadata": {},
     "output_type": "execute_result"
    },
    {
     "data": {
      "image/png": "[encoded data removed]",
      "text/plain": [
       "<Figure size 432x288 with 1 Axes>"
      ]
     },
     "metadata": {
      "needs_background": "light"
     },
     "output_type": "display_data"
    }
   ],
   "source": [
    "#Plotando gráficos e visualizando estatíticas \n",
    "#plt.subplot(131)\n",
    "#plt.bar(dados_infrator_veiculo_gravidade[3],[1, 1000, 200000])\n",
    "#dados_infrator_veiculo_gravidade.plot(kind = 'scatter', x = 2, y = 3)\n",
    "#plt.show()\n",
    "sns.countplot(x =dados_infrator_veiculo_gravidade['tipo_infrator'], data = dados_infrator_veiculo_gravidade)\n",
    "dados_infrator_veiculo_gravidade['tipo_infrator'].value_counts()\n"
   ]
  },
  {
   "cell_type": "code",
   "execution_count": 75,
   "id": "b2dadbaa-b279-4f27-8e0d-1412c9db3cdf",
   "metadata": {},
   "outputs": [
    {
     "data": {
      "text/plain": [
       "AUTOMOVEL                    36033\n",
       "AUTOMOVEL                    24329\n",
       "Automóvel                    12906\n",
       "CAMINHONET                    5738\n",
       "MOTOCICLETA                   3929\n",
       "CAMIONETA                     3701\n",
       "CAMINHONETE                   3607\n",
       "CAMIONETA                     2576\n",
       "UTILITARIO                    2535\n",
       "MOTOCICLET                    1896\n",
       "Caminhonete                   1652\n",
       "CAMINHAO                      1496\n",
       "UTILITARIO                    1315\n",
       "Motocicleta                   1230\n",
       "S.REBOQUE                     1107\n",
       "Camioneta                      901\n",
       "CAMINHAO                       793\n",
       "Utilitário                     423\n",
       "Caminhão Trator                339\n",
       "MOTONETA                       214\n",
       "CAMINHAO TRATOR                176\n",
       "Caminhão                       164\n",
       "ONIBUS                         149\n",
       "MOTONETA                       140\n",
       "MICROONIBUS                    123\n",
       "MICROONIBU                     110\n",
       "ONIBUS                         109\n",
       "REBOQUE                        101\n",
       "SEMI-REBOQUE                    94\n",
       "REBOQUE                         80\n",
       "Motoneta                        77\n",
       "C. TRATOR                       68\n",
       "Ônibus                          46\n",
       "Microônibus                     45\n",
       "Reboque                         21\n",
       "Semi-Reboque                    17\n",
       "CICLOMOTOR                      13\n",
       "MOTOR CASA                       6\n",
       "MOTOR-CASA                       3\n",
       "TRICICLO                         3\n",
       "CICLOMOTOR                       3\n",
       "Ciclomotor                       3\n",
       "Motor-Casa                       2\n",
       "TRATOR DE RODAS                  1\n",
       "Triciclo                         1\n",
       "SIDE-CAR                         1\n",
       "TRICICLO                         1\n",
       "Name: tipo_veiculo, dtype: int64"
      ]
     },
     "execution_count": 75,
     "metadata": {},
     "output_type": "execute_result"
    }
   ],
   "source": [
    "#sns.countplot(x =dados_infrator_veiculo_gravidade['tipo_veiculo'] , data = dados_infrator_veiculo_gravidade)\n",
    "dados_infrator_veiculo_gravidade['tipo_veiculo'].value_counts()"
   ]
  },
  {
   "cell_type": "code",
   "execution_count": 64,
   "id": "b8941f8a-00bf-470f-b773-4ab88725486f",
   "metadata": {},
   "outputs": [
    {
     "data": {
      "text/plain": [
       "Média         71652\n",
       "Leve          16476\n",
       "Grave         15689\n",
       "Gravíssima     4460\n",
       "Name: tipo_gravidade, dtype: int64"
      ]
     },
     "execution_count": 64,
     "metadata": {},
     "output_type": "execute_result"
    },
    {
     "data": {
      "image/png": "[encoded data removed]",
      "text/plain": [
       "<Figure size 432x288 with 1 Axes>"
      ]
     },
     "metadata": {
      "needs_background": "light"
     },
     "output_type": "display_data"
    }
   ],
   "source": [
    "sns.countplot(x =dados_infrator_veiculo_gravidade['tipo_gravidade'], data = dados_infrator_veiculo_gravidade)\n",
    "dados_infrator_veiculo_gravidade['tipo_gravidade'].value_counts()"
   ]
  },
  {
   "cell_type": "markdown",
   "id": "9c68954c-0c96-492d-86c7-081459d9eac7",
   "metadata": {},
   "source": [
    "### ToDo: ###"
   ]
  },
  {
   "cell_type": "code",
   "execution_count": null,
   "id": "17bb4cdf-2e94-412f-80ad-9154d3c80964",
   "metadata": {},
   "outputs": [],
   "source": []
  }
 ],
 "metadata": {
  "kernelspec": {
   "display_name": "Python 3 (ipykernel)",
   "language": "python",
   "name": "python3"
  },
  "language_info": {
   "codemirror_mode": {
    "name": "ipython",
    "version": 3
   },
   "file_extension": ".py",
   "mimetype": "text/x-python",
   "name": "python",
   "nbconvert_exporter": "python",
   "pygments_lexer": "ipython3",
   "version": "3.9.7"
  }
 },
 "nbformat": 4,
 "nbformat_minor": 5
}
